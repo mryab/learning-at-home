{
 "cells": [
  {
   "cell_type": "code",
   "execution_count": 1,
   "metadata": {},
   "outputs": [
    {
     "name": "stdout",
     "output_type": "stream",
     "text": [
      "env: CUDA_VISIBLE_DEVICES=\n",
      "env: OMP_NUM_THREADS=48\n",
      "env: MKL_NUM_THREADS=48\n"
     ]
    }
   ],
   "source": [
    "%env CUDA_VISIBLE_DEVICES=\n",
    "%env OMP_NUM_THREADS=48\n",
    "%env MKL_NUM_THREADS=48\n",
    "import time\n",
    "import random\n",
    "import threading\n",
    "from functools import partial\n",
    "\n",
    "import numpy as np\n",
    "\n",
    "import torch\n",
    "import torch.nn as nn\n",
    "import torch.nn.functional as F\n",
    "from torchvision import datasets, transforms\n",
    "from tqdm import tqdm\n",
    "\n",
    "from IPython.display import clear_output\n",
    "import matplotlib.pyplot as plt\n",
    "%matplotlib inline\n",
    "\n",
    "from faulty_dmoe_emulator import EmulatedFaultyDMoE, get_non_expert_params"
   ]
  },
  {
   "cell_type": "code",
   "execution_count": 2,
   "metadata": {},
   "outputs": [],
   "source": [
    "seed = 1338\n",
    "torch.manual_seed(seed)\n",
    "np.random.seed(seed)\n",
    "random.seed(seed)\n",
    "\n",
    "device = 'cuda' if torch.cuda.is_available() else 'cpu'\n",
    "layer_dim = 512\n",
    "num_blocks = 4\n",
    "num_experts = 1024\n",
    "num_active_experts = 4\n",
    "\n",
    "batch_size = 8\n",
    "num_trainers = 64\n",
    "failure_rate = 0.1\n",
    "\n",
    "delay_ms = 1000\n",
    "\n",
    "eval_interval = 1024\n",
    "total_steps = eval_interval * 35\n",
    "update_every_steps = 10\n",
    "\n",
    "in_features = 28 ** 2\n",
    "num_classes = 10"
   ]
  },
  {
   "cell_type": "code",
   "execution_count": 3,
   "metadata": {},
   "outputs": [
    {
     "name": "stderr",
     "output_type": "stream",
     "text": [
      "\r",
      "  0%|          | 0/35840 [00:00<?, ?it/s]"
     ]
    }
   ],
   "source": [
    "class FeedforwardBlock(nn.Module):\n",
    "    def __init__(self, hid_dim):\n",
    "        super().__init__()\n",
    "        self.layers = nn.Sequential(\n",
    "            nn.Linear(hid_dim, 4 * hid_dim), nn.LayerNorm(4 * hid_dim), nn.ReLU(inplace=True),\n",
    "            nn.Linear(4 * hid_dim, 4 * hid_dim), nn.LayerNorm(4 * hid_dim), nn.ReLU(inplace=True),\n",
    "            nn.Linear(4 * hid_dim, hid_dim),\n",
    "        )\n",
    "\n",
    "    def forward(self, x):\n",
    "        return x + self.layers(x)\n",
    "    \n",
    "Optimizer=partial(torch.optim.Adam, lr=1e-3, amsgrad=True)\n",
    "emulate_latency = lambda: time.sleep(delay_ms / 1000. * np.random.weibull(1))\n",
    "\n",
    "model = nn.Sequential(\n",
    "    nn.Linear(in_features, layer_dim),\n",
    "    *(EmulatedFaultyDMoE(layer_dim, num_experts=num_experts, num_active=num_active_experts, \n",
    "                         update_every_inputs=batch_size, update_every_steps=update_every_steps,\n",
    "                         failure_rate=failure_rate,\n",
    "                         Expert=FeedforwardBlock, Optimizer=Optimizer) \n",
    "      for _ in range(num_blocks)),\n",
    "    nn.LayerNorm(layer_dim), nn.Linear(layer_dim, num_classes)\n",
    ").to(device)\n",
    "\n",
    "# create optimizer for non-expert params only\n",
    "non_expert_params = get_non_expert_params(model)\n",
    "opt = Optimizer(non_expert_params)\n",
    "\n",
    "# create initial gradients\n",
    "model(torch.zeros(1, in_features, device=device)).sum().backward()\n",
    "opt.zero_grad()\n",
    "\n",
    "\n",
    "lock_model = threading.Lock()\n",
    "need_to_eval = threading.Event()\n",
    "train_history, val_history = [], []\n",
    "progress = tqdm(total=total_steps)\n"
   ]
  },
  {
   "cell_type": "code",
   "execution_count": 4,
   "metadata": {},
   "outputs": [
    {
     "name": "stderr",
     "output_type": "stream",
     "text": [
      "#35875\tloss=0.006488\tdelay=30: 35875it [17:10:35,  8.33s/it]"
     ]
    },
    {
     "data": {
      "image/png": "[encoded data removed]",
      "text/plain": [
       "<Figure size 864x432 with 2 Axes>"
      ]
     },
     "metadata": {
      "needs_background": "light"
     },
     "output_type": "display_data"
    },
    {
     "name": "stderr",
     "output_type": "stream",
     "text": [
      "#35903\tloss=0.003334\tdelay=33: 35903it [17:10:38,  8.16it/s]"
     ]
    }
   ],
   "source": [
    "def trainer_thread_method():\n",
    "    \"\"\" train model on batches, emulate network latency \"\"\"\n",
    "    train_loader = torch.utils.data.DataLoader(\n",
    "        datasets.MNIST('../data', train=True, download=True,\n",
    "                       transform=transforms.Compose([\n",
    "                           transforms.ToTensor(),\n",
    "                           transforms.Normalize((0.1307,), (0.3081,)),\n",
    "                           transforms.Lambda(lambda x: x.view(-1))\n",
    "                       ])),\n",
    "        batch_size=batch_size, shuffle=True,\n",
    "    )\n",
    "\n",
    "    while True:\n",
    "        for xb, yb in train_loader:\n",
    "            xb, yb = xb.to(device), yb.to(device)\n",
    "\n",
    "            with lock_model:\n",
    "                model.train(True)\n",
    "                initial_step_index = len(train_history)\n",
    "                logits = model(xb)\n",
    "                loss = F.cross_entropy(logits, yb)\n",
    "                \n",
    "                opt.zero_grad()\n",
    "                loss.backward()\n",
    "                grads = [param.grad.clone() if param.grad is not None else None\n",
    "                         for param in non_expert_params]\n",
    "\n",
    "            emulate_latency()\n",
    "\n",
    "            with lock_model:\n",
    "                model.train(True)\n",
    "                opt.zero_grad()\n",
    "                for param, grad in zip(non_expert_params, grads):\n",
    "                    param.grad[...] = grad\n",
    "                opt.step()\n",
    "                train_history.append(dict(\n",
    "                    loss=loss.item(), \n",
    "                    delay_steps=len(train_history) - initial_step_index,\n",
    "                ))\n",
    "                progress.desc = f'#{len(train_history)}\\tloss={loss.item():4f}\\tdelay={train_history[-1][\"delay_steps\"]}'\n",
    "                progress.update(1)\n",
    "                \n",
    "                if len(train_history) % eval_interval == 0 or len(train_history) >= total_steps:\n",
    "                    need_to_eval.set()\n",
    "            if len(train_history) >= total_steps:\n",
    "                return\n",
    "                \n",
    "\n",
    "def evaluate():\n",
    "    test_loader = torch.utils.data.DataLoader(\n",
    "            datasets.MNIST('../data', train=False, transform=transforms.Compose([\n",
    "                transforms.ToTensor(),\n",
    "                transforms.Normalize((0.1307,), (0.3081,)),\n",
    "                transforms.Lambda(lambda x: x.view(-1))\n",
    "            ])),\n",
    "            batch_size=batch_size, num_workers=0, pin_memory=True,\n",
    "    )\n",
    "    with lock_model, torch.no_grad():\n",
    "        model.train(False)\n",
    "        loss_numerator = acc_numerator = denominator = 0.0\n",
    "        for xb, yb in test_loader:\n",
    "            xb, yb = xb.to(device), yb.to(device)\n",
    "            logits = model(xb)\n",
    "            loss_numerator += F.cross_entropy(logits, yb).item() * len(yb)\n",
    "            acc_numerator += (logits.argmax(-1).to(yb.dtype) == yb).to(torch.float32).sum()\n",
    "            denominator += len(yb)\n",
    "    return dict(loss=loss_numerator / denominator,\n",
    "                acc=acc_numerator / denominator,\n",
    "                num_updates=len(train_history))\n",
    "            \n",
    "\n",
    "# finally, run training\n",
    "trainers = [threading.Thread(target=trainer_thread_method) for i in range(num_trainers)]\n",
    "for trainer in trainers:\n",
    "    trainer.start()\n",
    "    \n",
    "while len(train_history) < total_steps:\n",
    "    need_to_eval.wait(), need_to_eval.clear()\n",
    "    val_metrics = evaluate()\n",
    "    val_history.append(val_metrics)\n",
    "        \n",
    "    clear_output(True)\n",
    "    plt.figure(figsize=[12, 6])\n",
    "    plt.subplot(1, 2, 1); plt.title('train loss'); plt.ylim(0, 10)\n",
    "    plt.plot([info['loss'] for info in train_history])\n",
    "    \n",
    "    \n",
    "    plt.subplot(1, 2, 2); plt.title('val accuracy'); plt.grid()\n",
    "    plt.plot(*zip(*((info['num_updates'], info['acc']) for info in val_history)))\n",
    "    plt.show()\n",
    "\n",
    "for trainer in trainers:\n",
    "    trainer.join()"
   ]
  },
  {
   "cell_type": "code",
   "execution_count": 5,
   "metadata": {},
   "outputs": [
    {
     "name": "stdout",
     "output_type": "stream",
     "text": [
      "logs/gpu_delay1000ms_failrate0.1_dmoe4outof1024experts_seed1338.pkl\n"
     ]
    }
   ],
   "source": [
    "import os\n",
    "import pickle\n",
    "os.system('mkdir -p logs')\n",
    "\n",
    "num_files = len(os.listdir('logs'))\n",
    "fname = f'logs/gpu_delay{delay_ms}ms_failrate0.1_dmoe{num_active_experts}outof{num_experts}experts_seed{seed}.pkl'\n",
    "print(fname)\n",
    "with open(fname, 'wb') as f_out:\n",
    "    pickle.dump(dict(train_history=train_history, val_history=val_history), f_out)"
   ]
  },
  {
   "cell_type": "code",
   "execution_count": null,
   "metadata": {},
   "outputs": [],
   "source": []
  }
 ],
 "metadata": {
  "kernelspec": {
   "display_name": "py38",
   "language": "python",
   "name": "py38"
  },
  "language_info": {
   "codemirror_mode": {
    "name": "ipython",
    "version": 3
   },
   "file_extension": ".py",
   "mimetype": "text/x-python",
   "name": "python",
   "nbconvert_exporter": "python",
   "pygments_lexer": "ipython3",
   "version": "3.8.1"
  }
 },
 "nbformat": 4,
 "nbformat_minor": 2
}
